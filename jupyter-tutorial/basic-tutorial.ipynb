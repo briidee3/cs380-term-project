{
 "cells": [
  {
   "cell_type": "markdown",
   "id": "dd6389bf-1b4b-4806-a1a5-1e5ad9a89978",
   "metadata": {
    "tags": []
   },
   "source": [
    "## This notebook is following the tutorial located at the following site:\n",
    "### https://www.dataquest.io/blog/jupyter-notebook-tutorial/\n",
    "4-11-23"
   ]
  },
  {
   "cell_type": "code",
   "execution_count": 1,
   "id": "5a93dc04-60ce-436a-ba23-1b43b5b52d8c",
   "metadata": {
    "tags": []
   },
   "outputs": [
    {
     "name": "stdout",
     "output_type": "stream",
     "text": [
      "yehaw\n"
     ]
    }
   ],
   "source": [
    "print('yehaw')"
   ]
  },
  {
   "cell_type": "code",
   "execution_count": 2,
   "id": "3cc41d03-9bbb-4d25-bfef-9d2d19070865",
   "metadata": {
    "tags": []
   },
   "outputs": [],
   "source": [
    "import time\n",
    "time.sleep(3)"
   ]
  },
  {
   "cell_type": "code",
   "execution_count": 3,
   "id": "8e161241-5a18-42f4-87e0-5515fa82066b",
   "metadata": {
    "tags": []
   },
   "outputs": [
    {
     "data": {
      "text/plain": [
       "'Hello, Tim!'"
      ]
     },
     "execution_count": 3,
     "metadata": {},
     "output_type": "execute_result"
    }
   ],
   "source": [
    "def say_hello(recipient):\n",
    "    return 'Hello, {}!'.format(recipient)\n",
    "\n",
    "say_hello('Tim')"
   ]
  },
  {
   "cell_type": "code",
   "execution_count": 4,
   "id": "238b0798-5dab-482c-ace7-7dd22da09c85",
   "metadata": {
    "tags": []
   },
   "outputs": [],
   "source": [
    "import numpy as np\n",
    "def square(x):\n",
    "    return x * x"
   ]
  },
  {
   "cell_type": "code",
   "execution_count": 5,
   "id": "84845d4d-0536-42a9-8582-0c058a43b232",
   "metadata": {
    "tags": []
   },
   "outputs": [
    {
     "name": "stdout",
     "output_type": "stream",
     "text": [
      "7 squared is 49\n"
     ]
    }
   ],
   "source": [
    "x = np.random.randint(1, 10)\n",
    "y= square(x)\n",
    "print('%d squared is %d' % (x, y))"
   ]
  }
 ],
 "metadata": {
  "kernelspec": {
   "display_name": "Python 3 (ipykernel)",
   "language": "python",
   "name": "python3"
  },
  "language_info": {
   "codemirror_mode": {
    "name": "ipython",
    "version": 3
   },
   "file_extension": ".py",
   "mimetype": "text/x-python",
   "name": "python",
   "nbconvert_exporter": "python",
   "pygments_lexer": "ipython3",
   "version": "3.11.3"
  }
 },
 "nbformat": 4,
 "nbformat_minor": 5
}
