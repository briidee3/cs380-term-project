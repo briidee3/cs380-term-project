{
 "cells": [
  {
   "cell_type": "markdown",
   "id": "369d7685-aa2c-4231-ba04-3cf9a4d2dc90",
   "metadata": {},
   "source": [
    "# This notebook will be used for the construction of a step-by-step process for the production of the proposed [HML-IDS](https://ieeexplore.ieee.org/stamp/stamp.jsp?tp=&arnumber=8751972) method of anomaly-detection for application to IDS systems."
   ]
  },
  {
   "cell_type": "markdown",
   "id": "1529e95f-7922-447f-9161-d3252f0e2e42",
   "metadata": {
    "tags": []
   },
   "source": [
    "## Preprocessing and Feature Engineering"
   ]
  },
  {
   "cell_type": "markdown",
   "id": "925508a3-1c6a-4cab-b6cc-6a2c61bae26b",
   "metadata": {
    "tags": []
   },
   "source": [
    "### Balancing data via SMOTE"
   ]
  },
  {
   "attachments": {},
   "cell_type": "markdown",
   "id": "23296adc-9608-4d45-a281-e85acbaff9ce",
   "metadata": {},
   "source": [
    "- According to Figure 1 (overview of the proposed approach from the [HML-IDS](https://ieeexplore.ieee.org/stamp/stamp.jsp?tp=&arnumber=8751972) paper, the proposed model was tested using the initial imbalanced dataset alongside a balanced version (balanced using the [SMOTE](https://machinelearningmastery.com/smote-oversampling-for-imbalanced-classification/) technique) "
   ]
  },
  {
   "cell_type": "markdown",
   "id": "f0cc8dc6-7088-4fee-9ad2-79ee0017a0dc",
   "metadata": {},
   "source": [
    "- The notebook that is within the root project folder, \"SMOTE-testing.ipynb\", will be used for testing and practicing for applying the SMOTE technique to the data before the `Feature Engineering` process."
   ]
  },
  {
   "cell_type": "markdown",
   "id": "b42e450f-7f20-4a2d-929f-8ff7c767a1e5",
   "metadata": {
    "tags": []
   },
   "source": [
    "### Feature extraction"
   ]
  },
  {
   "cell_type": "markdown",
   "id": "e231aba1-718b-44bd-931a-774747a29248",
   "metadata": {},
   "source": [
    "- For feature extraction, we are going to likely utilize scikit-learn's [resources](https://scikit-learn.org/stable/modules/feature_extraction.html) on the matter. A big part of this appears to be `Vectorizing` the data, so as to allow it to work better in mathematical functions. The linked resource goes over some of the ways in which this may be implemented via the sklearn library."
   ]
  },
  {
   "cell_type": "markdown",
   "id": "d231e738-e1c2-4e8d-8872-010d2751941f",
   "metadata": {
    "tags": []
   },
   "source": [
    "### Categorical Labeling"
   ]
  },
  {
   "cell_type": "markdown",
   "id": "492ee9bc-fa12-4903-8d30-654dc5728274",
   "metadata": {},
   "source": [
    "- [This](https://machinelearningknowledge.ai/categorical-data-encoding-with-sklearn-labelencoder-and-onehotencoder/) appears to be a decent resource for better understanding categorical labeling, and how it can be implemented with the sklearn library. It appears that `One Hot Encoding` would likely be the most useful one in our case; with One Hot Encoding, each new categorical value (i.e. 'Name: Jane Doe' or 'Job: Plumber') is given a column in a matrix. The values within each of the rows within those columns is binary, wherein 1 represents that it is of that category (i.e. 1 may represent 'Jane Doe' and 0 may represent 'not Jane Doe'). There is also `Label Encoding`, which works differently but in a similar vein, and may prove useful for the purposes of this project."
   ]
  },
  {
   "cell_type": "markdown",
   "id": "774d2683-2a21-42d2-8350-0b5058a41d04",
   "metadata": {},
   "source": [
    "- Another thing that seems to be of note is that `Categorical Labeling` is often classified as a method of `Feature Extraction`. Though this may be the case, I have left the two in separate categories in this document due to the same separation being present in the [paper](https://ieeexplore.ieee.org/stamp/stamp.jsp?tp=&arnumber=8751972)."
   ]
  },
  {
   "cell_type": "markdown",
   "id": "1046d825-7e42-4389-a770-258f7f5f7fc2",
   "metadata": {},
   "source": [
    "### Feature scaling"
   ]
  },
  {
   "cell_type": "markdown",
   "id": "b8eda745-80a0-4c22-a571-b4414be667e0",
   "metadata": {},
   "source": [
    "- For `Feature Scaling`, the process which will be utilized for this project will be based on findings and learnings from the resources available from the [related web pages](https://scikit-learn.org/stable/auto_examples/preprocessing/plot_scaling_importance.html#sphx-glr-auto-examples-preprocessing-plot-scaling-importance-py) provided by scikit-learn."
   ]
  },
  {
   "cell_type": "markdown",
   "id": "9b46a49b-062f-4417-ae36-5341b22cd5de",
   "metadata": {},
   "source": [
    "### Normalization"
   ]
  },
  {
   "cell_type": "markdown",
   "id": "4a2739e9-5b1d-4676-a75a-44543d7779bf",
   "metadata": {},
   "source": [
    "- As with `Feature scaling`, a [similar approach](https://scikit-learn.org/stable/modules/preprocessing.html#preprocessing-normalization) will likely be taken for implementation of `Normalization`."
   ]
  },
  {
   "cell_type": "markdown",
   "id": "9b2b60d6-892b-4706-b712-a94bfe2a20c8",
   "metadata": {
    "jp-MarkdownHeadingCollapsed": true,
    "tags": []
   },
   "source": [
    "## Feature selection/dimensionality reduction"
   ]
  },
  {
   "cell_type": "markdown",
   "id": "019b8807-01a9-43a4-8288-0fb754f1f524",
   "metadata": {},
   "source": [
    "- The `Feature Selection` process demonstrated in [the paper](https://ieeexplore.ieee.org/stamp/stamp.jsp?tp=&arnumber=8751972) appears to be relatively complex; it utilizes three different Feature Selection methods (`PCA`, `CCA`, and `ICA`), and uses a technique the authors referred to as `AllKNN` for essentially combining the results of those three methods."
   ]
  },
  {
   "cell_type": "markdown",
   "id": "7938babe-c94e-4b1f-b504-e886ffd8e970",
   "metadata": {},
   "source": [
    "- [This](https://scikit-learn.org/stable/modules/decomposition.html#ica) may also be a fairly useful resource for further analysis and understanding of these feature selection methods (particularly PCA and ICA)."
   ]
  },
  {
   "cell_type": "markdown",
   "id": "f84ebc9b-36e1-4fa0-8edb-f37d3ca324b5",
   "metadata": {},
   "source": [
    "- I would like to note, however, that I would like to see how the `CCFSRFG` [method](https://journalofbigdata.springeropen.com/articles/10.1186/s40537-020-00381-y) may be applied here (likely in opposition to the `AllKNN`-based method as explained above)"
   ]
  },
  {
   "cell_type": "markdown",
   "id": "140911bc-062b-4ba3-8ccf-12102f6e840d",
   "metadata": {},
   "source": [
    "### Principal Component Analysis (PCA)"
   ]
  },
  {
   "cell_type": "markdown",
   "id": "fad36f84-1642-4975-ae61-d39ac36cc7b6",
   "metadata": {},
   "source": [
    "- The implementation of the `PCA` dimensionality reduction technique in this project will likely be derived from [resources provided by scikit-learn](https://scikit-learn.org/stable/modules/generated/sklearn.decomposition.PCA.html)."
   ]
  },
  {
   "cell_type": "markdown",
   "id": "e2296791-6fb5-4014-9e01-e1e891b81d57",
   "metadata": {},
   "source": [
    "### Canonical Correlation Analysis (CCA)"
   ]
  },
  {
   "cell_type": "markdown",
   "id": "5b857803-fcc6-40d1-9d0f-59bc74651efa",
   "metadata": {},
   "source": [
    "- As for implementing `CCA`, [this page](https://scikit-learn.org/stable/modules/generated/sklearn.cross_decomposition.CCA.html) (also provided by scikit-learn) will likely be a useful resource."
   ]
  },
  {
   "cell_type": "markdown",
   "id": "00fa6557-d93d-4080-939b-9d4db49eed22",
   "metadata": {},
   "source": [
    "### Independent Component Analysis (ICA)"
   ]
  },
  {
   "cell_type": "markdown",
   "id": "12102c36-281a-4b46-8009-078e78ba3ab9",
   "metadata": {},
   "source": [
    "- For the implementation of `ICA`, the `FastICA` [algorithm](https://scikit-learn.org/stable/modules/generated/sklearn.decomposition.FastICA.html) from the sklearn library will likely be of use."
   ]
  },
  {
   "cell_type": "markdown",
   "id": "a8486d6b-f2b1-48d5-b252-a50f4f9a55e7",
   "metadata": {},
   "source": [
    "### AllKNN"
   ]
  },
  {
   "cell_type": "markdown",
   "id": "e4505090-a3ff-4b48-adaa-b7cf69d44c6e",
   "metadata": {},
   "source": [
    "- The `AllKNN` algorithm is going to be used for re-sampling the dataset from the results of the `PCA`, `CCA`, and `ICA` algorithms. "
   ]
  },
  {
   "cell_type": "markdown",
   "id": "5efdbc41-a444-436d-b8dd-214617d2490a",
   "metadata": {},
   "source": [
    "- The imbalanced-learn library appears to have an implementation of `AllKNN`, thus [their documentation](https://imbalanced-learn.org/stable/references/generated/imblearn.under_sampling.AllKNN.html) will likely prove to be a valuable resource."
   ]
  },
  {
   "cell_type": "markdown",
   "id": "5c2dfc6c-2806-46d4-af7e-3a539ef000dc",
   "metadata": {
    "jp-MarkdownHeadingCollapsed": true,
    "tags": []
   },
   "source": [
    "## Algorithm 1: Feature Extraction and Generating Feature Matrix"
   ]
  },
  {
   "cell_type": "markdown",
   "id": "930f0bb4-0cb5-4dc8-810b-aece01760cfb",
   "metadata": {},
   "source": [
    "### The following is a step-by-step algorithmic explanation as to the implementation of the proposed HML-IDS as described in the paper:"
   ]
  },
  {
   "cell_type": "markdown",
   "id": "bdc60d59-91a2-4e5c-8da4-1c274a056c2c",
   "metadata": {},
   "source": [
    "<ul>1: For i = 1 to O do</ul>\n",
    "<ul>2:     df <-- read -- dataset : [initialization]</ul>\n",
    "<ul>3: End for</ul>\n",
    "<ul>4: For j steps do //standardization</ul>\n",
    "<ul>5:     Scale values according to <em>Eq. (1)</em></ul>\n",
    "<ul>6:"
   ]
  },
  {
   "cell_type": "markdown",
   "id": "7cba5489-9d9f-46f0-9616-753ae33eb4df",
   "metadata": {},
   "source": [
    "Where `Eq. (1)` refers to equation 1 from the paper."
   ]
  }
 ],
 "metadata": {
  "kernelspec": {
   "display_name": "Python (sklearn-env)",
   "language": "python",
   "name": "sklearn-env"
  },
  "language_info": {
   "codemirror_mode": {
    "name": "ipython",
    "version": 3
   },
   "file_extension": ".py",
   "mimetype": "text/x-python",
   "name": "python",
   "nbconvert_exporter": "python",
   "pygments_lexer": "ipython3",
   "version": "3.11.3"
  }
 },
 "nbformat": 4,
 "nbformat_minor": 5
}
