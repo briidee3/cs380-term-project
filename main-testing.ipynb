{
 "cells": [
  {
   "cell_type": "markdown",
   "id": "2fe83a0a-8b67-4e4a-b011-09db840b2b2d",
   "metadata": {},
   "source": [
    "# This notebook is intended to be used as a work-in-progress rapid prototyping development environment for the recreation of the proposed method of anomaly detection for IDS purposes from [this paper](https://ieeexplore.ieee.org/stamp/stamp.jsp?tp=&arnumber=8751972)"
   ]
  },
  {
   "cell_type": "markdown",
   "id": "d3d22781-da58-4609-bef9-1a5a36687f08",
   "metadata": {},
   "source": [
    "### Use the SMOTE technique to balance the dataset (which essentially gives the classifier more data from outliers, thus enhancing its ability to classify such data):"
   ]
  },
  {
   "cell_type": "markdown",
   "id": "58b21fd8-aa1c-452a-9788-989439e508fc",
   "metadata": {
    "tags": []
   },
   "source": [
    "### Firstly, we are going to do some feature extraction, in order to provide the model with vectorized data:"
   ]
  }
 ],
 "metadata": {
  "kernelspec": {
   "display_name": "Python (sklearn-env)",
   "language": "python",
   "name": "sklearn-env"
  },
  "language_info": {
   "codemirror_mode": {
    "name": "ipython",
    "version": 3
   },
   "file_extension": ".py",
   "mimetype": "text/x-python",
   "name": "python",
   "nbconvert_exporter": "python",
   "pygments_lexer": "ipython3",
   "version": "3.11.3"
  }
 },
 "nbformat": 4,
 "nbformat_minor": 5
}
